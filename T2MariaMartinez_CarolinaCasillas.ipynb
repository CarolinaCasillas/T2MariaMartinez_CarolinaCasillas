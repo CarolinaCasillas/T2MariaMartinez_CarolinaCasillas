{
 "cells": [
  {
   "cell_type": "markdown",
   "id": "0cb5ac22",
   "metadata": {},
   "source": [
    "<img style=\"float: left; margin: 30px 15px 15px 15px;\" src=\"https://encrypted-tbn0.gstatic.com/images?q=tbn:ANd9GcTFzQj91sOlkeDFkg5HDbjtR4QJYmLXkfMNig&usqp=CAU\" width=\"400\" height=\"500\" /> \n",
    "    \n",
    "    \n",
    "### <font color='navy'> Simulación matemática. \n",
    "\n",
    "**Nombres:**\n",
    "    María del Carmen Martínez Hernández,\n",
    "    Carolina Anidsel Casillas García\n",
    "         \n",
    "**Fecha:** 5 de sptiembre de 2022.\n",
    "\n",
    "**Expediente** : NT729340, \n",
    "    \n",
    "**Profesor:** Oscar David Jaramillo Zuluaga.\n",
    "    \n",
    "**Link Github**: https://github.com/MMHdez/T2MariaMartinez_CarolinaCasillas\n",
    "\n",
    "# Tarea 2: Clase 4"
   ]
  },
  {
   "cell_type": "markdown",
   "id": "5aad68a7",
   "metadata": {},
   "source": [
    "## Tarea 3.\n",
    "> 1. Obtener máximos y mínimos absolutos, usando `sympy`, de las funciones dadas en los intervalos dados, y graficar la función en dicho intervalo señalando los puntos máximo y mínimo.\n",
    "\n",
    "   + $f(x)=2x^3+4x^2+1$ en $[-1.5,\\,0.5]$\n",
    "   + $g(x) = 5x^3-3x+10$ en el intervalo $[-1, \\,0]$"
   ]
  },
  {
   "cell_type": "markdown",
   "id": "43f400b2",
   "metadata": {},
   "source": [
    "Código de solución estudiante 1"
   ]
  },
  {
   "cell_type": "code",
   "execution_count": null,
   "id": "f40b31ab",
   "metadata": {},
   "outputs": [],
   "source": [
    "# Código de solución estudiante 1\n",
    "\n"
   ]
  },
  {
   "cell_type": "markdown",
   "id": "be334360",
   "metadata": {},
   "source": [
    "Código de solución estudiante 2"
   ]
  },
  {
   "cell_type": "code",
   "execution_count": null,
   "id": "7aeff5e6",
   "metadata": {},
   "outputs": [],
   "source": [
    "# Código de solución estudiante 2\n",
    "\n"
   ]
  }
 ],
 "metadata": {
  "kernelspec": {
   "display_name": "Python 3 (ipykernel)",
   "language": "python",
   "name": "python3"
  },
  "language_info": {
   "codemirror_mode": {
    "name": "ipython",
    "version": 3
   },
   "file_extension": ".py",
   "mimetype": "text/x-python",
   "name": "python",
   "nbconvert_exporter": "python",
   "pygments_lexer": "ipython3",
   "version": "3.9.12"
  }
 },
 "nbformat": 4,
 "nbformat_minor": 5
}
