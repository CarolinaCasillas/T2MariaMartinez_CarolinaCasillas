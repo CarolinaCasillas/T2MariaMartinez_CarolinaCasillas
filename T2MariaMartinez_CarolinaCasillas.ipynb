{
 "cells": [
  {
   "cell_type": "markdown",
   "id": "0cb5ac22",
   "metadata": {},
   "source": [
    "<img style=\"float: left; margin: 30px 15px 15px 15px;\" src=\"https://encrypted-tbn0.gstatic.com/images?q=tbn:ANd9GcTFzQj91sOlkeDFkg5HDbjtR4QJYmLXkfMNig&usqp=CAU\" width=\"400\" height=\"500\" /> \n",
    "    \n",
    "    \n",
    "### <font color='navy'> Simulación matemática. \n",
    "\n",
    "**Nombres:**\n",
    "    María del Carmen Martínez Hernández,\n",
    "    Carolina Anidsel Casillas García\n",
    "         \n",
    "**Fecha:** 5 de sptiembre de 2022.\n",
    "\n",
    "**Expediente** : NT729340, 740286\n",
    "    \n",
    "**Profesor:** Oscar David Jaramillo Zuluaga.\n",
    "    \n",
    "**Link Github**: https://github.com/MMHdez/T2MariaMartinez_CarolinaCasillas\n",
    "\n",
    "# Tarea 2: Clase 4"
   ]
  },
  {
   "cell_type": "markdown",
   "id": "5aad68a7",
   "metadata": {},
   "source": [
    "## Tarea 3.\n",
    "> 1. Obtener máximos y mínimos absolutos, usando `sympy`, de las funciones dadas en los intervalos dados, y graficar la función en dicho intervalo señalando los puntos máximo y mínimo.\n",
    "\n",
    "   + $f(x)=2x^3+4x^2+1$ en $[-1.5,\\,0.5]$\n",
    "   + $g(x) = 5x^3-3x+10$ en el intervalo $[-1, \\,0]$"
   ]
  },
  {
   "cell_type": "markdown",
   "id": "43f400b2",
   "metadata": {},
   "source": [
    "Código de solución estudiante 1"
   ]
  },
  {
   "cell_type": "code",
   "execution_count": null,
   "id": "f40b31ab",
   "metadata": {},
   "outputs": [],
   "source": [
    "# Código de solución estudiante 1\n",
    "\n"
   ]
  },
  {
   "cell_type": "markdown",
   "id": "be334360",
   "metadata": {},
   "source": [
    "Código de solución estudiante 2"
   ]
  },
  {
   "cell_type": "markdown",
   "id": "846ee321",
   "metadata": {},
   "source": [
    "#### Ejercicio 1\n",
    "- $f(x)=2x^3+4x^2+1$ en el intervalo $[-1.5,\\,0.5]$\n"
   ]
  },
  {
   "cell_type": "code",
   "execution_count": 1,
   "id": "eb122ba5",
   "metadata": {},
   "outputs": [],
   "source": [
    "import numpy as np\n",
    "import sympy as sym\n",
    "sym.init_printing(use_latex=\"mathjax\")\n",
    "import matplotlib.pyplot as plt\n",
    "%matplotlib inline"
   ]
  },
  {
   "cell_type": "code",
   "execution_count": 2,
   "id": "b6262087",
   "metadata": {},
   "outputs": [],
   "source": [
    "sym.var(\"x\",real=True)\n",
    "def f(x):\n",
    "    return (2*(x**3))+(4*(x**2))+1"
   ]
  },
  {
   "cell_type": "code",
   "execution_count": 3,
   "id": "979d433d",
   "metadata": {},
   "outputs": [
    {
     "data": {
      "text/latex": [
       "$\\displaystyle 6 x^{2} + 8 x$"
      ],
      "text/plain": [
       "   2      \n",
       "6⋅x  + 8⋅x"
      ]
     },
     "execution_count": 3,
     "metadata": {},
     "output_type": "execute_result"
    }
   ],
   "source": [
    "df = sym.diff(f(x),x)\n",
    "df"
   ]
  },
  {
   "cell_type": "code",
   "execution_count": 4,
   "id": "25748499",
   "metadata": {},
   "outputs": [
    {
     "data": {
      "text/latex": [
       "$\\displaystyle \\left[ - \\frac{4}{3}, \\  0\\right]$"
      ],
      "text/plain": [
       "[-4/3, 0]"
      ]
     },
     "execution_count": 4,
     "metadata": {},
     "output_type": "execute_result"
    }
   ],
   "source": [
    "xc = xc = sym.solve(df,x)\n",
    "xc"
   ]
  },
  {
   "cell_type": "code",
   "execution_count": 5,
   "id": "b443ad89",
   "metadata": {},
   "outputs": [
    {
     "data": {
      "text/latex": [
       "$\\displaystyle \\left( 3.25, \\  2.25, \\  3.37037037037037, \\  1\\right)$"
      ],
      "text/plain": [
       "(3.25, 2.25, 3.370370370370371, 1)"
      ]
     },
     "execution_count": 5,
     "metadata": {},
     "output_type": "execute_result"
    }
   ],
   "source": [
    "f(-1.5), f(0.5), f(-4/3), f(0)"
   ]
  },
  {
   "cell_type": "markdown",
   "id": "6a452d5d",
   "metadata": {},
   "source": [
    "Concluimos que en $f$ en $\\left[-1.5,0.5\\right]$, el máximo absoluto es $3.37$ y se alcanza en $x=-\\frac{4}{3}$, y que el mínimo absoluto es $1$ y se alcanza en $x=0$.    \n",
    "\n",
    "Coordenada punto máximo, $(-\\frac{4}{3}, 3.37)$.    \n",
    "Coordenada punto mínimo, $(0, 1)$."
   ]
  },
  {
   "cell_type": "code",
   "execution_count": 6,
   "id": "f0334571",
   "metadata": {},
   "outputs": [],
   "source": [
    "xnum = np.linspace(-5,5,90)\n",
    "ynum = f(xnum)"
   ]
  },
  {
   "cell_type": "code",
   "execution_count": 7,
   "id": "81d7beb2",
   "metadata": {},
   "outputs": [
    {
     "data": {
      "image/png": "[encoded data removed]",
      "text/plain": [
       "<Figure size 720x576 with 1 Axes>"
      ]
     },
     "metadata": {
      "needs_background": "light"
     },
     "output_type": "display_data"
    }
   ],
   "source": [
    "plt.figure(figsize=(10,8))\n",
    "\n",
    "plt.plot(xnum,ynum,'--b',lw=5,label='$y = 2x^3+4x^2+1$')\n",
    "plt.plot([-4/3],[f(-4/3)],'*y',ms=18,label='Punto máximo en el intervalo $(-\\frac{4}{3}, 3.37)$')\n",
    "plt.plot([0],[1],'*r',ms=18,label='Punto mínimo en el intervalo $(0, 1)$')\n",
    "\n",
    "plt.ylim(-4,8)\n",
    "\n",
    "plt.xlabel('$x$',fontsize=18)\n",
    "plt.ylabel('$y$',fontsize=18)\n",
    "\n",
    "plt.grid()\n",
    "plt.legend(loc='best')\n",
    "plt.show()"
   ]
  },
  {
   "cell_type": "markdown",
   "id": "78d26752",
   "metadata": {},
   "source": [
    "#### Ejercicio 2\n",
    "- $g(x) = 5x^3-3x+10$ en el intervalo $[-1, \\,0]$"
   ]
  },
  {
   "cell_type": "code",
   "execution_count": 8,
   "id": "c8f9ad3d",
   "metadata": {},
   "outputs": [],
   "source": [
    "def g(x):\n",
    "    return (5*(x**3))-(3*x)+1"
   ]
  },
  {
   "cell_type": "code",
   "execution_count": 9,
   "id": "a752f672",
   "metadata": {},
   "outputs": [
    {
     "data": {
      "text/latex": [
       "$\\displaystyle 15 x^{2} - 3$"
      ],
      "text/plain": [
       "    2    \n",
       "15⋅x  - 3"
      ]
     },
     "execution_count": 9,
     "metadata": {},
     "output_type": "execute_result"
    }
   ],
   "source": [
    "dg = sym.diff(g(x),x)\n",
    "dg"
   ]
  },
  {
   "cell_type": "code",
   "execution_count": 10,
   "id": "6bff089f",
   "metadata": {},
   "outputs": [
    {
     "data": {
      "text/latex": [
       "$\\displaystyle \\left[ - \\frac{\\sqrt{5}}{5}, \\  \\frac{\\sqrt{5}}{5}\\right]$"
      ],
      "text/plain": [
       "⎡-√5   √5⎤\n",
       "⎢────, ──⎥\n",
       "⎣ 5    5 ⎦"
      ]
     },
     "execution_count": 10,
     "metadata": {},
     "output_type": "execute_result"
    }
   ],
   "source": [
    "xd = sym.solve(dg,x)\n",
    "xd"
   ]
  },
  {
   "cell_type": "code",
   "execution_count": 11,
   "id": "a1f80329",
   "metadata": {},
   "outputs": [
    {
     "data": {
      "text/latex": [
       "$\\displaystyle \\left( -1, \\  1, \\  1.89442719099992, \\  0.105572809000084\\right)$"
      ],
      "text/plain": [
       "(-1, 1, 1.894427190999916, 0.10557280900008403)"
      ]
     },
     "execution_count": 11,
     "metadata": {},
     "output_type": "execute_result"
    }
   ],
   "source": [
    "g(-1), g(0), g(-(5**(1/2))/5), g((5**(1/2))/5) "
   ]
  },
  {
   "cell_type": "markdown",
   "id": "39d2fc46",
   "metadata": {},
   "source": [
    "Concluimos que en $g$ en $\\left[-1,0\\right]$, el máximo absoluto es $1.89$ y se alcanza en $x=-\\frac{\\sqrt{5}}{5}$, y que el mínimo absoluto es $0.11$ y se alcanza en $x=\\frac{\\sqrt{5}}{5}$.    \n",
    "\n",
    "Coordenada punto máximo, $(-\\frac{\\sqrt{5}}{5}, 1.89)$.   \n",
    "Coordenada punto mínimo, $(\\frac{\\sqrt{5}}{5}, 0.11)$."
   ]
  },
  {
   "cell_type": "code",
   "execution_count": 13,
   "id": "31586696",
   "metadata": {},
   "outputs": [],
   "source": [
    "xnum = np.linspace(-5,5,90)\n",
    "ynum = f(xnum)"
   ]
  },
  {
   "cell_type": "code",
   "execution_count": 14,
   "id": "5d25378d",
   "metadata": {},
   "outputs": [
    {
     "data": {
      "image/png": "[encoded data removed]",
      "text/plain": [
       "<Figure size 720x576 with 1 Axes>"
      ]
     },
     "metadata": {
      "needs_background": "light"
     },
     "output_type": "display_data"
    }
   ],
   "source": [
    "plt.figure(figsize=(10,8))\n",
    "\n",
    "plt.plot(xnum,ynum,'--g',lw=5,label='$y = 5x^3-3x^2+10$')\n",
    "plt.plot([-4/3],[f(-4/3)],'*y',ms=18,label='Punto máximo en el intervalo')\n",
    "plt.plot([0],[1],'*r',ms=18,label='Punto mínimo en el intervalo')\n",
    "\n",
    "plt.ylim(-2,12)\n",
    "\n",
    "plt.xlabel('$x$',fontsize=18)\n",
    "plt.ylabel('$y$',fontsize=18)\n",
    "\n",
    "plt.grid()\n",
    "plt.legend(loc='best')\n",
    "plt.show()"
   ]
  }
 ],
 "metadata": {
  "kernelspec": {
   "display_name": "Python 3 (ipykernel)",
   "language": "python",
   "name": "python3"
  },
  "language_info": {
   "codemirror_mode": {
    "name": "ipython",
    "version": 3
   },
   "file_extension": ".py",
   "mimetype": "text/x-python",
   "name": "python",
   "nbconvert_exporter": "python",
   "pygments_lexer": "ipython3",
   "version": "3.9.12"
  }
 },
 "nbformat": 4,
 "nbformat_minor": 5
}
